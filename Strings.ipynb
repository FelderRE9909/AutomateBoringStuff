{
 "cells": [
  {
   "cell_type": "code",
   "execution_count": null,
   "metadata": {},
   "outputs": [],
   "source": [
    "import pyperclip\n",
    "pyperclip.copy('Hello world')\n",
    "print(pyperclip.paste())"
   ]
  },
  {
   "cell_type": "markdown",
   "metadata": {},
   "source": [
    "# Printtable - this is a program that will print table data, formatted for the screen"
   ]
  },
  {
   "cell_type": "code",
   "execution_count": 10,
   "metadata": {},
   "outputs": [
    {
     "name": "stdout",
     "output_type": "stream",
     "text": [
      "apples oranges cherries banana \n",
      " Alice     Bob    Carol  David \n",
      "  dogs    cats    moose  goose \n",
      "cattle flowers    grass  trees \n"
     ]
    }
   ],
   "source": [
    "def printtable(tableData):\n",
    "    colwidths = [0] * len(tableData[0])\n",
    "# Check and set the column width\n",
    "    for col in range(len(tableData[0])):\n",
    "        for row in range(len(tableData)):\n",
    "            width = len(tableData[row][col])\n",
    "            if width > colwidths[col]:\n",
    "                colwidths[col] = width\n",
    "# Print the table\n",
    "    for k in range(len(tableData)):\n",
    "        for z in range(len(tableData[0])):\n",
    "            print(tableData[k][z].rjust(colwidths[z]), end=' ')\n",
    "        print()\n",
    "            \n",
    "# Main Program\n",
    "tableData = [['apples', 'oranges', 'cherries', 'banana'],\n",
    "             ['Alice', 'Bob', 'Carol', 'David'],\n",
    "             ['dogs', 'cats', 'moose', 'goose'],\n",
    "             ['cattle', 'flowers', 'grass', 'trees']]\n",
    "printtable(tableData)"
   ]
  }
 ],
 "metadata": {
  "kernelspec": {
   "display_name": "Python 3",
   "language": "python",
   "name": "python3"
  },
  "language_info": {
   "codemirror_mode": {
    "name": "ipython",
    "version": 3
   },
   "file_extension": ".py",
   "mimetype": "text/x-python",
   "name": "python",
   "nbconvert_exporter": "python",
   "pygments_lexer": "ipython3",
   "version": "3.7.6"
  }
 },
 "nbformat": 4,
 "nbformat_minor": 2
}
