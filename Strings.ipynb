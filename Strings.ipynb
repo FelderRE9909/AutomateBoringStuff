{
 "cells": [
  {
   "cell_type": "code",
   "execution_count": 1,
   "metadata": {},
   "outputs": [
    {
     "ename": "ModuleNotFoundError",
     "evalue": "No module named 'pyperclip'",
     "output_type": "error",
     "traceback": [
      "\u001b[0;31m---------------------------------------------------------------------------\u001b[0m",
      "\u001b[0;31mModuleNotFoundError\u001b[0m                       Traceback (most recent call last)",
      "Cell \u001b[0;32mIn[1], line 1\u001b[0m\n\u001b[0;32m----> 1\u001b[0m \u001b[39mimport\u001b[39;00m \u001b[39mpyperclip\u001b[39;00m\n\u001b[1;32m      2\u001b[0m pyperclip\u001b[39m.\u001b[39mcopy(\u001b[39m'\u001b[39m\u001b[39mHello world\u001b[39m\u001b[39m'\u001b[39m)\n\u001b[1;32m      3\u001b[0m \u001b[39mprint\u001b[39m(pyperclip\u001b[39m.\u001b[39mpaste())\n",
      "\u001b[0;31mModuleNotFoundError\u001b[0m: No module named 'pyperclip'"
     ]
    }
   ],
   "source": [
    "import pyperclip\n",
    "pyperclip.copy('Hello world')\n",
    "print(pyperclip.paste())"
   ]
  },
  {
   "cell_type": "markdown",
   "metadata": {},
   "source": [
    "# Printtable - this is a program that will print table data, formatted for the screen"
   ]
  },
  {
   "cell_type": "code",
   "execution_count": null,
   "metadata": {},
   "outputs": [],
   "source": [
    "def printtable(tableData):\n",
    "    colwidths = [0] * len(tableData[0])\n",
    "# Check and set the column width\n",
    "    for col in range(len(tableData[0])):\n",
    "        for row in range(len(tableData)):\n",
    "            width = len(tableData[row][col])\n",
    "            if width > colwidths[col]:\n",
    "                colwidths[col] = width\n",
    "# Print the table\n",
    "    for k in range(len(tableData)):\n",
    "        for z in range(len(tableData[0])):\n",
    "            print(tableData[k][z].rjust(colwidths[z]), end=' ')\n",
    "        print()\n",
    "            \n",
    "# Main Program\n",
    "tableData = [['apples', 'oranges', 'cherries', 'banana'],\n",
    "             ['Alice', 'Bob', 'Carol', 'David'],\n",
    "             ['dogs', 'cats', 'moose', 'goose'],\n",
    "             ['cattle', 'flowers', 'grass', 'trees']]\n",
    "printtable(tableData)"
   ]
  },
  {
   "cell_type": "code",
   "execution_count": null,
   "metadata": {},
   "outputs": [],
   "source": []
  }
 ],
 "metadata": {
  "kernelspec": {
   "display_name": "Python 3",
   "language": "python",
   "name": "python3"
  },
  "language_info": {
   "codemirror_mode": {
    "name": "ipython",
    "version": 3
   },
   "file_extension": ".py",
   "mimetype": "text/x-python",
   "name": "python",
   "nbconvert_exporter": "python",
   "pygments_lexer": "ipython3",
   "version": "3.10.10"
  },
  "metadata": {
   "interpreter": {
    "hash": "3936ebb7220913a62d23a926135acaa92ae907c7c6bdd2a5bcd4c90303dc603c"
   }
  }
 },
 "nbformat": 4,
 "nbformat_minor": 2
}
