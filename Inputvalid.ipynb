{
 "cells": [
  {
   "cell_type": "markdown",
   "source": [
    "Input Validation - Ensure that input falls within certain ranges\r\n",
    "Using pyinputplus module for input validation"
   ],
   "metadata": {}
  },
  {
   "cell_type": "code",
   "execution_count": 1,
   "source": [
    "import pyinputplus as pyip\r\n",
    "\r\n",
    "bread = pyip.inputMenu(['wheat', 'rye', 'white', 'sourdough'], prompt='Select a bread type \\n')\r\n",
    "\r\n",
    "protein = pyip.inputMenu(['chicken', 'turkey', 'ham', 'tofu'], prompt='Select a type of meat \\n')"
   ],
   "outputs": [
    {
     "output_type": "stream",
     "name": "stdout",
     "text": [
      "Select a bread type \n",
      "* wheat\n",
      "* rye\n",
      "* white\n",
      "* sourdough\n",
      "Select a type of meat \n",
      "* chicken\n",
      "* turkey\n",
      "* ham\n",
      "* tofu\n"
     ]
    }
   ],
   "metadata": {}
  },
  {
   "cell_type": "code",
   "execution_count": 2,
   "source": [
    "want_cheese = pyip.inputYesNo(prompt='Would you like cheese? \\n')\r\n",
    "if want_cheese == 'yes':\r\n",
    "    cheese = pyip.inputMenu(['cheddar', 'swiss', 'mozzarella'], prompt='Select a type of cheese \\n')\r\n",
    "else:\r\n",
    "    cheese = 'None'\r\n",
    "\r\n",
    "want_greens = pyip.inputYesNo(prompt='Would you like lettuce, tomato, mustard, or mayo? \\n')    "
   ],
   "outputs": [
    {
     "output_type": "error",
     "ename": "SyntaxError",
     "evalue": "invalid syntax (Temp/ipykernel_15016/1211259819.py, line 4)",
     "traceback": [
      "\u001b[1;36m  File \u001b[1;32m\"C:\\Users\\RONALD~1\\AppData\\Local\\Temp/ipykernel_15016/1211259819.py\"\u001b[1;36m, line \u001b[1;32m4\u001b[0m\n\u001b[1;33m    else cheese = 'None'\u001b[0m\n\u001b[1;37m    ^\u001b[0m\n\u001b[1;31mSyntaxError\u001b[0m\u001b[1;31m:\u001b[0m invalid syntax\n"
     ]
    }
   ],
   "metadata": {}
  }
 ],
 "metadata": {
  "orig_nbformat": 4,
  "language_info": {
   "name": "python",
   "version": "3.9.6",
   "mimetype": "text/x-python",
   "codemirror_mode": {
    "name": "ipython",
    "version": 3
   },
   "pygments_lexer": "ipython3",
   "nbconvert_exporter": "python",
   "file_extension": ".py"
  },
  "kernelspec": {
   "name": "python3",
   "display_name": "Python 3.9.6 64-bit"
  },
  "interpreter": {
   "hash": "46efb242b956a74382534e0e5cc1ecf08f24097357d078081430b1d78d5cf0f4"
  }
 },
 "nbformat": 4,
 "nbformat_minor": 2
}