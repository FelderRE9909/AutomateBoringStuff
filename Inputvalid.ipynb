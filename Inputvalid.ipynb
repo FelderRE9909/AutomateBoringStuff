{
 "cells": [
  {
   "cell_type": "markdown",
   "source": [
    "Input Validation - Ensure that input falls within certain ranges\r\n",
    "Using pyinputplus module for input validation"
   ],
   "metadata": {}
  },
  {
   "cell_type": "code",
   "execution_count": null,
   "source": [
    "import pyinputplus as pyip\r\n",
    "\r\n",
    "bread = pyip.inputMenu(['wheat', 'rye', 'white', 'sourdough'], prompt='Select a bread type \\n')\r\n",
    "\r\n",
    "protein = pyip.inputMenu(['chicken', 'turkey', 'ham', 'tofu'], prompt='Select a type of meat \\n')"
   ],
   "outputs": [],
   "metadata": {}
  },
  {
   "cell_type": "code",
   "execution_count": null,
   "source": [
    "want_cheese = pyip.inputYesNo(prompt='Would you like cheese? \\n')\r\n",
    "if want_cheese == 'yes':\r\n",
    "    cheese = pyip.inputMenu(['cheddar', 'swiss', 'mozzarella'], prompt='Select a type of cheese \\n')\r\n",
    "else:\r\n",
    "    cheese = 'None'\r\n",
    "\r\n",
    "want_greens = pyip.inputYesNo(prompt='Would you like lettuce, tomato, mustard, or mayo? \\n')    "
   ],
   "outputs": [],
   "metadata": {}
  }
 ],
 "metadata": {
  "orig_nbformat": 4,
  "language_info": {
   "name": "python",
   "version": "3.9.6",
   "mimetype": "text/x-python",
   "codemirror_mode": {
    "name": "ipython",
    "version": 3
   },
   "pygments_lexer": "ipython3",
   "nbconvert_exporter": "python",
   "file_extension": ".py"
  },
  "kernelspec": {
   "name": "python3",
   "display_name": "Python 3.9.6 64-bit"
  },
  "interpreter": {
   "hash": "46efb242b956a74382534e0e5cc1ecf08f24097357d078081430b1d78d5cf0f4"
  }
 },
 "nbformat": 4,
 "nbformat_minor": 2
}